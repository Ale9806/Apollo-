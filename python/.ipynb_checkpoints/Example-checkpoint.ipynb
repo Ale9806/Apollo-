{
 "cells": [
  {
   "cell_type": "code",
   "execution_count": 1,
   "metadata": {},
   "outputs": [
    {
     "name": "stdout",
     "output_type": "stream",
     "text": [
      "{'text': '## Definiditio  \\n\\nSet theory is a branch of mathematical logic that studies sets, which informally are collections of objects. Although any type of object can be collected into a set, set theory is applied most often to objects that are relevant to mathematics. The language of set theory can be used to define nearly all mathematical objects.\\n\\n![set theory](https://en.wikipedia.org/wiki/Set_theory#/media/File:Venn_A_intersect_B.svg)\\n', 'title': 'Set Theory\\n'}\n",
      "Succesful Transaction\n"
     ]
    }
   ],
   "source": [
    "import os \n",
    "import yaml\n",
    "from pathlib import Path\n",
    "import firebase_admin\n",
    "from firebase_admin import credentials\n",
    "from firebase_admin import db\n",
    "\n",
    "### Login in ###\n",
    "cred = credentials.Certificate(r\"cred.json\")      # Add credential downloaded from firestore\n",
    "firebase_admin.initialize_app(cred,{\"databaseURL\":\"https://apollo-bb64b.firebaseio.com/user/Tutorial/\"})  # Point to credentials and page \n",
    "\n",
    "### Setting Database References ###\n",
    "db_ref_1 = db.reference(\"user/Tutorial\")  # Create a pointer inside database\n",
    "\n",
    "\n",
    "## Get Values ##\n",
    "data = db_ref_1.get()  # Get value of Reference 3\n",
    "print(data)            # Print Data \n",
    "print(\"Succesful Transaction\")"
   ]
  },
  {
   "cell_type": "code",
   "execution_count": 2,
   "metadata": {},
   "outputs": [],
   "source": [
    "from pathlib import Path\n",
    "path = os.getcwd()                # Get current path\n",
    "parent = Path(path).parent        # Get parent node\n",
    "os.chdir(parent)                  # Change to parent node\n",
    "os.chdir(\"docs\")                  # Change to docs\n",
    "title = data[\"title\"].rstrip()    # get the title ands strip /n\n",
    "title2 = title.replace(\" \",\"_\")   # Change the spaces for underscore\n",
    "text =  data[\"text\"]              # Get  text\n",
    "\n",
    "### Write file ###\n",
    "with open(title2 + \".md\",\"wb\") as handler:  # Create md file\n",
    "    title = \"# \" + title                    # Set title to md title\n",
    "    handler.write(title.encode(\"UTF-8\"))    # Write title tothe md file\n",
    "    handler.write(\"\\n\".encode(\"UTF-8\"))     # Write space\n",
    "    handler.write(\"\\n\".encode(\"UTF-8\"))     # Write space\n",
    "    handler.write(text.encode(\"UTF-8\"))     # Write text\n",
    "\n",
    "os.chdir(parent)                            # Go pack to parent directory\n",
    "with open(\"mkdocs.yml\",\"r\") as handler:                                 # Open yml file in wirte mode\n",
    "    cur_yaml = yaml.safe_load(handler)                                  # Safe Load information\n",
    "    # cur_yaml[\"nav\"][1].keys()                                         # Verify  Keys\n",
    "    cur_yaml[\"nav\"][1][\"Tutorials\"].append( {title2: title2 + \".md\"})   # Upload md to yml\n",
    "\n",
    "if cur_yaml:                                                            # if file exists\n",
    "    with open(\"mkdocs.yml\",'w') as handler:                             # open it again in write mode\n",
    "        yaml.safe_dump(cur_yaml, handler)                               # Safe dump     \n",
    "\n",
    "os.chdir(path)"
   ]
  },
  {
   "cell_type": "code",
   "execution_count": 3,
   "metadata": {},
   "outputs": [
    {
     "data": {
      "text/plain": [
       "'Set_Theory'"
      ]
     },
     "execution_count": 3,
     "metadata": {},
     "output_type": "execute_result"
    }
   ],
   "source": [
    "cur_yaml"
   ]
  }
 ],
 "metadata": {
  "kernelspec": {
   "display_name": "Python 3",
   "language": "python",
   "name": "python3"
  },
  "language_info": {
   "codemirror_mode": {
    "name": "ipython",
    "version": 3
   },
   "file_extension": ".py",
   "mimetype": "text/x-python",
   "name": "python",
   "nbconvert_exporter": "python",
   "pygments_lexer": "ipython3",
   "version": "3.7.7"
  }
 },
 "nbformat": 4,
 "nbformat_minor": 4
}
